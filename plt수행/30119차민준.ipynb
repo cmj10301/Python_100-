{
 "cells": [
  {
   "cell_type": "markdown",
   "metadata": {},
   "source": [
    "## 30119차민준"
   ]
  },
  {
   "cell_type": "markdown",
   "metadata": {},
   "source": [
    "## 주제 : 고속도로_교통사고통계(2000년~2018년)\n",
    "출처 : https://www.data.go.kr/data/15045638/fileData.do\n",
    "\n",
    "관리부서명 : 정보처 유지관리팀\n",
    "등록 : 2019-07-31"
   ]
  },
  {
   "cell_type": "code",
   "execution_count": 3,
   "metadata": {},
   "outputs": [],
   "source": [
    "import pandas as pd\n",
    "import numpy as np\n",
    "import matplotlib as mpl\n",
    "import matplotlib.pyplot as plt"
   ]
  },
  {
   "cell_type": "code",
   "execution_count": 4,
   "metadata": {
    "scrolled": false
   },
   "outputs": [],
   "source": [
    "df=pd.read_csv('자료.csv',encoding='cp949')"
   ]
  },
  {
   "cell_type": "code",
   "execution_count": 5,
   "metadata": {
    "scrolled": false
   },
   "outputs": [
    {
     "data": {
      "text/html": [
       "<div>\n",
       "<style scoped>\n",
       "    .dataframe tbody tr th:only-of-type {\n",
       "        vertical-align: middle;\n",
       "    }\n",
       "\n",
       "    .dataframe tbody tr th {\n",
       "        vertical-align: top;\n",
       "    }\n",
       "\n",
       "    .dataframe thead th {\n",
       "        text-align: right;\n",
       "    }\n",
       "</style>\n",
       "<table border=\"1\" class=\"dataframe\">\n",
       "  <thead>\n",
       "    <tr style=\"text-align: right;\">\n",
       "      <th></th>\n",
       "      <th>연도</th>\n",
       "      <th>사고</th>\n",
       "      <th>사망</th>\n",
       "      <th>부상</th>\n",
       "    </tr>\n",
       "  </thead>\n",
       "  <tbody>\n",
       "    <tr>\n",
       "      <th>0</th>\n",
       "      <td>2000년</td>\n",
       "      <td>3,910</td>\n",
       "      <td>569</td>\n",
       "      <td>2,845</td>\n",
       "    </tr>\n",
       "    <tr>\n",
       "      <th>1</th>\n",
       "      <td>2001년</td>\n",
       "      <td>3,638</td>\n",
       "      <td>456</td>\n",
       "      <td>2,331</td>\n",
       "    </tr>\n",
       "    <tr>\n",
       "      <th>2</th>\n",
       "      <td>2002년</td>\n",
       "      <td>3,957</td>\n",
       "      <td>421</td>\n",
       "      <td>2,115</td>\n",
       "    </tr>\n",
       "    <tr>\n",
       "      <th>3</th>\n",
       "      <td>2003년</td>\n",
       "      <td>3,585</td>\n",
       "      <td>348</td>\n",
       "      <td>1,843</td>\n",
       "    </tr>\n",
       "    <tr>\n",
       "      <th>4</th>\n",
       "      <td>2004년</td>\n",
       "      <td>3,242</td>\n",
       "      <td>300</td>\n",
       "      <td>1,555</td>\n",
       "    </tr>\n",
       "    <tr>\n",
       "      <th>5</th>\n",
       "      <td>2005년</td>\n",
       "      <td>2,880</td>\n",
       "      <td>249</td>\n",
       "      <td>1,170</td>\n",
       "    </tr>\n",
       "    <tr>\n",
       "      <th>6</th>\n",
       "      <td>2006년</td>\n",
       "      <td>2,583</td>\n",
       "      <td>284</td>\n",
       "      <td>1,131</td>\n",
       "    </tr>\n",
       "    <tr>\n",
       "      <th>7</th>\n",
       "      <td>2007년</td>\n",
       "      <td>2,550</td>\n",
       "      <td>283</td>\n",
       "      <td>1,114</td>\n",
       "    </tr>\n",
       "    <tr>\n",
       "      <th>8</th>\n",
       "      <td>2008년</td>\n",
       "      <td>2,449</td>\n",
       "      <td>265</td>\n",
       "      <td>955</td>\n",
       "    </tr>\n",
       "    <tr>\n",
       "      <th>9</th>\n",
       "      <td>2009년</td>\n",
       "      <td>2,374</td>\n",
       "      <td>248</td>\n",
       "      <td>1,031</td>\n",
       "    </tr>\n",
       "    <tr>\n",
       "      <th>10</th>\n",
       "      <td>2010년</td>\n",
       "      <td>2,368</td>\n",
       "      <td>353</td>\n",
       "      <td>983</td>\n",
       "    </tr>\n",
       "    <tr>\n",
       "      <th>11</th>\n",
       "      <td>2011년</td>\n",
       "      <td>2,640</td>\n",
       "      <td>265</td>\n",
       "      <td>1,731</td>\n",
       "    </tr>\n",
       "    <tr>\n",
       "      <th>12</th>\n",
       "      <td>2012년</td>\n",
       "      <td>2,600</td>\n",
       "      <td>343</td>\n",
       "      <td>1,619</td>\n",
       "    </tr>\n",
       "    <tr>\n",
       "      <th>13</th>\n",
       "      <td>2013년</td>\n",
       "      <td>2,496</td>\n",
       "      <td>264</td>\n",
       "      <td>1,253</td>\n",
       "    </tr>\n",
       "    <tr>\n",
       "      <th>14</th>\n",
       "      <td>2014년</td>\n",
       "      <td>2,395</td>\n",
       "      <td>253</td>\n",
       "      <td>1,148</td>\n",
       "    </tr>\n",
       "    <tr>\n",
       "      <th>15</th>\n",
       "      <td>2015년</td>\n",
       "      <td>2,251</td>\n",
       "      <td>223</td>\n",
       "      <td>1,054</td>\n",
       "    </tr>\n",
       "    <tr>\n",
       "      <th>16</th>\n",
       "      <td>2016년</td>\n",
       "      <td>2,195</td>\n",
       "      <td>239</td>\n",
       "      <td>1,424</td>\n",
       "    </tr>\n",
       "    <tr>\n",
       "      <th>17</th>\n",
       "      <td>2017년</td>\n",
       "      <td>2,145</td>\n",
       "      <td>214</td>\n",
       "      <td>911</td>\n",
       "    </tr>\n",
       "    <tr>\n",
       "      <th>18</th>\n",
       "      <td>2018년</td>\n",
       "      <td>2,030</td>\n",
       "      <td>227</td>\n",
       "      <td>858</td>\n",
       "    </tr>\n",
       "  </tbody>\n",
       "</table>\n",
       "</div>"
      ],
      "text/plain": [
       "       연도     사고   사망     부상\n",
       "0   2000년  3,910  569  2,845\n",
       "1   2001년  3,638  456  2,331\n",
       "2   2002년  3,957  421  2,115\n",
       "3   2003년  3,585  348  1,843\n",
       "4   2004년  3,242  300  1,555\n",
       "5   2005년  2,880  249  1,170\n",
       "6   2006년  2,583  284  1,131\n",
       "7   2007년  2,550  283  1,114\n",
       "8   2008년  2,449  265    955\n",
       "9   2009년  2,374  248  1,031\n",
       "10  2010년  2,368  353    983\n",
       "11  2011년  2,640  265  1,731\n",
       "12  2012년  2,600  343  1,619\n",
       "13  2013년  2,496  264  1,253\n",
       "14  2014년  2,395  253  1,148\n",
       "15  2015년  2,251  223  1,054\n",
       "16  2016년  2,195  239  1,424\n",
       "17  2017년  2,145  214    911\n",
       "18  2018년  2,030  227    858"
      ]
     },
     "execution_count": 5,
     "metadata": {},
     "output_type": "execute_result"
    }
   ],
   "source": [
    "df"
   ]
  },
  {
   "cell_type": "code",
   "execution_count": 6,
   "metadata": {},
   "outputs": [],
   "source": [
    "from matplotlib import rc\n",
    "rc('font',family='gulim')"
   ]
  },
  {
   "cell_type": "code",
   "execution_count": 7,
   "metadata": {},
   "outputs": [],
   "source": [
    "x=df['연도']\n",
    "y=df['사고']\n",
    "y1=df['사망']\n",
    "plt.rcParams['figure.figsize'] = [13, 6]"
   ]
  },
  {
   "cell_type": "code",
   "execution_count": 8,
   "metadata": {},
   "outputs": [
    {
     "data": {
      "text/plain": [
       "[<matplotlib.lines.Line2D at 0x1891272f860>]"
      ]
     },
     "execution_count": 8,
     "metadata": {},
     "output_type": "execute_result"
    },
    {
     "data": {
      "image/png": "[encoded data removed]",
      "text/plain": [
       "<Figure size 936x432 with 1 Axes>"
      ]
     },
     "metadata": {
      "needs_background": "light"
     },
     "output_type": "display_data"
    }
   ],
   "source": [
    "plt.xlabel('연도')\n",
    "plt.ylabel('사고')\n",
    "plt.gca().invert_yaxis()\n",
    "plt.plot(x,y ,color='Forestgreen')"
   ]
  },
  {
   "cell_type": "markdown",
   "metadata": {},
   "source": [
    "## 차트설명\n",
    "그래프를 보면 2000년부터 2018년까지 꾸준히 사고횟수가 감소하고 있는 모습이다."
   ]
  },
  {
   "cell_type": "code",
   "execution_count": 9,
   "metadata": {},
   "outputs": [
    {
     "data": {
      "text/plain": [
       "[<matplotlib.lines.Line2D at 0x18912759320>]"
      ]
     },
     "execution_count": 9,
     "metadata": {},
     "output_type": "execute_result"
    },
    {
     "data": {
      "image/png": "[encoded data removed]",
      "text/plain": [
       "<Figure size 936x432 with 1 Axes>"
      ]
     },
     "metadata": {
      "needs_background": "light"
     },
     "output_type": "display_data"
    }
   ],
   "source": [
    "plt.xlabel('연도')\n",
    "plt.ylabel('사망')\n",
    "plt.plot(x,y1 ,color='skyblue')"
   ]
  },
  {
   "cell_type": "markdown",
   "metadata": {},
   "source": [
    "## 차트설명\n",
    "그래프를 보면 2000년도부터 사망수가 점차 감소하다가, 2006년부터 약간 올라가고 2010년에 갑자기 상승했으며, 2011년에 다시 내려갔다가 2012년에 또다시 상승했다. 그 이후로는 점차 감소하고 있는 모습이다."
   ]
  }
 ],
 "metadata": {
  "kernelspec": {
   "display_name": "Python 3",
   "language": "python",
   "name": "python3"
  },
  "language_info": {
   "codemirror_mode": {
    "name": "ipython",
    "version": 3
   },
   "file_extension": ".py",
   "mimetype": "text/x-python",
   "name": "python",
   "nbconvert_exporter": "python",
   "pygments_lexer": "ipython3",
   "version": "3.7.3"
  }
 },
 "nbformat": 4,
 "nbformat_minor": 2
}
